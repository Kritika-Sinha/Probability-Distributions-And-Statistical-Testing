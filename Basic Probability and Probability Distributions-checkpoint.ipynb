{
 "cells": [
  {
   "cell_type": "code",
   "execution_count": 11,
   "metadata": {},
   "outputs": [],
   "source": [
    "#Understanding Basic of Probability\n",
    "##resource-ROSS 8th edition\n",
    "\n",
    "#Sample Space\n",
    "#The set of all possible outcomes is known as sample space\n",
    "#For example:\n",
    "    #if the experiment consists of flipping two coins, then the sample space\n",
    "    #consists of\n",
    "     #S={(H,H),(H,T),(T,H),(T,T)}\n",
    "        \n",
    "#Event\n",
    "#Any subset E of the sample space that consists of a set of possible outcomes\n",
    "#is called an event\n",
    "#For example:\n",
    "    #An event where the first flip is always heads is\n",
    "    #E={(H,T),(H,H)}\n"
   ]
  },
  {
   "cell_type": "code",
   "execution_count": 12,
   "metadata": {},
   "outputs": [],
   "source": [
    "##To calculate probability of any event\n",
    "\n",
    "  #          P(E)=number of outcomes in E\n",
    " #              _______________________\n",
    " #                number of outcomes in S\n",
    "    \n",
    "    \n",
    "##some important axioms of probability\n",
    "\n",
    "##  P(complement E)=1 - P(E)\n",
    "\n",
    "##  P(E U F) = P(E)+P(F)-P(EF)\n",
    "##  if E and F are mutually exclusive then\n",
    "##  P(E U F) = P(E)+P(F)\n",
    "\n",
    "##  P(E U F U G)=P(E)+P(F)+P(G) - P(EF) - P(FG) -P(GE) + P(EFG)\n"
   ]
  },
  {
   "cell_type": "code",
   "execution_count": 13,
   "metadata": {},
   "outputs": [],
   "source": [
    "##Random Variables\n",
    "\n",
    "#The quantities of interest, or, more formally, the\n",
    "#real-valued functions defined on the sample space, are known as random variables.\n",
    "#Because the value of a random variable is determined by the outcome of the experiment,\n",
    "#we may assign probabilities to the possible values of the random variable.\n",
    "\n",
    "#Eg-While flipping a coin we may just be interested in understanding the actual number of heads and\n",
    "#not be concerned about the sequence of occurance\n",
    "\n",
    "\n",
    "#Suppose that our experiment consists of tossing 3 fair coins. If we let Y denote the\n",
    "#number of heads that appear, then Y is a random variable taking on one of the values\n",
    "#0, 1, 2, and 3 with respective probabilities\n",
    "\n",
    "#P{Y = 0} = P{(T, T, T)} = 1/8\n",
    "#P{Y = 1} = P{(T, T,H), (T,H, T), (H, T, T)} = 3/8\n",
    "#P{Y = 2} = P{(T,H,H), (H, T,H), (H,H, T)} = 3/8\n",
    "#P{Y = 3} = P{(H,H,H)} = 1/8\n",
    "\n",
    "\n",
    "##The outcome of the random variable can be discrete or continous\n"
   ]
  },
  {
   "cell_type": "code",
   "execution_count": 14,
   "metadata": {},
   "outputs": [],
   "source": [
    "#The possible values the random variable can take on and the associated probabilities \n",
    "#is known as probability distribution.\n",
    "\n",
    "##Cumulative Distribution Function\n",
    "\n",
    "#For a random variable X, the function F defined by\n",
    "#F(x) = P{X<= x}           −infinity < x < +infinity\n",
    "#is called the cumulative distribution function, or, more simply, the distribution function,\n",
    "#of X. Thus, the distribution function specifies, for all real values x, the probability\n",
    "#that the random variable is less than or equal to x."
   ]
  },
  {
   "cell_type": "code",
   "execution_count": 59,
   "metadata": {},
   "outputs": [
    {
     "data": {
      "text/plain": [
       "Text(0.5,1,'Discrete Prob Dist')"
      ]
     },
     "execution_count": 59,
     "metadata": {},
     "output_type": "execute_result"
    },
    {
     "data": {
      "image/png": "[encoded data removed]",
      "text/plain": [
       "<matplotlib.figure.Figure at 0x1a64146cf98>"
      ]
     },
     "metadata": {},
     "output_type": "display_data"
    }
   ],
   "source": [
    "#There are two types of probability distributions, discrete and continuous probability distributions.\n",
    "\n",
    "#Discrete probability distributions are also called as probability mass functions.\n",
    "#Some examples of discrete probability distributions are  \n",
    "#Bernoulli distribution,  Binomial distribution, Poisson distribution and Geometric distribution.\n",
    "##Generating a simple probabilty mass function\n",
    "\n",
    "import pandas as pd\n",
    "import numpy as np\n",
    "import matplotlib.pyplot as plt\n",
    "\n",
    "X=(0,1,2,3)\n",
    "Prob_x=(0.125,0.375,0.375,0.125)\n",
    "data1=pd.DataFrame({'X':X,'Prob_x':Prob_x})\n",
    "data1\n",
    "plt.bar(X,Prob_x)\n",
    "plt.title('Discrete Prob Dist')\n",
    "\n",
    "\n"
   ]
  },
  {
   "cell_type": "code",
   "execution_count": 30,
   "metadata": {},
   "outputs": [
    {
     "data": {
      "text/plain": [
       "1.5"
      ]
     },
     "execution_count": 30,
     "metadata": {},
     "output_type": "execute_result"
    }
   ],
   "source": [
    "##Expected Value of a Probability Mass Function\n",
    "\n",
    "##The expected Value of a Discrete Variable X Probability Mass Function P(X) is given by E[X]\n",
    "    ## E[X]=X.P(X)\n",
    "    \n",
    "##It is the weighted average of all the possible values of X\n",
    "##Expected Value of the above distribution is \n",
    "data1['X_Px']=data1['X']*data1['Prob_x']\n",
    "data1\n",
    "\n",
    "E_X=sum(data1['X_Px'])\n",
    "E_X"
   ]
  },
  {
   "cell_type": "code",
   "execution_count": 36,
   "metadata": {},
   "outputs": [
    {
     "data": {
      "text/plain": [
       "0.75"
      ]
     },
     "execution_count": 36,
     "metadata": {},
     "output_type": "execute_result"
    }
   ],
   "source": [
    "##Variance of the Probability Mass Function\n",
    "\n",
    "##To understand the variation of discrete random variable distribution we can compute the variance\n",
    "##In PMF we expect the probabilty values to be distributed close to the mean and we compute the variation\n",
    "#relative to the mean or expected value of the distribution\n",
    "\n",
    "##Var(X)=E[X-Mean]^2\n",
    "\n",
    "##The simplified version is\n",
    "##Var(X)=E(X)^2-(E(X))^2\n",
    "\n",
    "data1['X2_Px']=data1['X']*data1['X']*data1['Prob_x']\n",
    "\n",
    "E_X2=sum(data1['X2_Px'])\n",
    "\n",
    "Var_X=E_X2-((E_X)*(E_X))\n",
    "Var_X"
   ]
  },
  {
   "cell_type": "code",
   "execution_count": 51,
   "metadata": {},
   "outputs": [
    {
     "data": {
      "text/plain": [
       "array([0.03125, 0.15625, 0.3125 , 0.3125 , 0.15625, 0.03125])"
      ]
     },
     "execution_count": 51,
     "metadata": {},
     "output_type": "execute_result"
    }
   ],
   "source": [
    "############################## Bernoulli and Binomail Distribution ###############################\n",
    "\n",
    "\n",
    "##Bernoulli\n",
    "##For an experiment whose outcome can be classified as success or failure,\n",
    "##then the probability mass function can be classifed as\n",
    "    #p(0)=P{X=0}=1-p\n",
    "    #p(1)=P{X=1}=p\n",
    "    #where p,0=<p<=1 representing the prob when trial is success\n",
    "    \n",
    "    \n",
    "#Such a random variable is a Bernoulli random variable\n",
    "#It could represent outcomes that are not equally likely\n",
    "\n",
    "\n",
    "##Binomial\n",
    "\n",
    "##For n independent trials,each of which results in a success with prob p\n",
    "##and prob (1-p) for a failure and X represents the number of successes that occur\n",
    "## in the r trials (each R trial becomes X)\n",
    "\n",
    "    #P(X=r)=nCr p^r .(1-p)^(n-r)\n",
    "    \n",
    "#Such a random variable is a Binomial random variable and the pmf\n",
    "##forms a binomial distribution\n",
    "\n",
    "#A binomial random variable only needs two parameters (size=n,prob=p).In a distribution\n",
    "#the X value will range from 0 to n to form the distribution of number of success\n",
    "\n",
    "\n",
    "##creating binomial distributions\n",
    "\n",
    "#example-Five fair coins are flipped.If the outcomes are asummed independent,create the probability \n",
    "#mass function of the number of heads obtained\n",
    "\n",
    "import scipy.stats as stats\n",
    "\n",
    "\n",
    "n=5\n",
    "p=0.5\n",
    "k=range(0,6)\n",
    "binom_dist=stats.binom.pmf(k,n,p)\n",
    "binom_dist"
   ]
  },
  {
   "cell_type": "code",
   "execution_count": 47,
   "metadata": {},
   "outputs": [
    {
     "data": {
      "text/plain": [
       "<Container object of 6 artists>"
      ]
     },
     "execution_count": 47,
     "metadata": {},
     "output_type": "execute_result"
    },
    {
     "data": {
      "image/png": "[encoded data removed]",
      "text/plain": [
       "<matplotlib.figure.Figure at 0x1a6403545f8>"
      ]
     },
     "metadata": {},
     "output_type": "display_data"
    }
   ],
   "source": [
    "plt.bar(k,binom_dist)"
   ]
  },
  {
   "cell_type": "code",
   "execution_count": 52,
   "metadata": {},
   "outputs": [
    {
     "data": {
      "text/plain": [
       "array([0.03125, 0.15625, 0.3125 ])"
      ]
     },
     "execution_count": 52,
     "metadata": {},
     "output_type": "execute_result"
    }
   ],
   "source": [
    "import scipy.stats as stats\n",
    "##if the number of heads had to be atmost 2\n",
    "\n",
    "n=5\n",
    "p=0.5\n",
    "k=range(0,3)\n",
    "binom_dist=stats.binom.pmf(k,n,p)\n",
    "binom_dist\n"
   ]
  },
  {
   "cell_type": "code",
   "execution_count": 54,
   "metadata": {},
   "outputs": [
    {
     "data": {
      "text/plain": [
       "Text(0,0.5,'Probability of success')"
      ]
     },
     "execution_count": 54,
     "metadata": {},
     "output_type": "execute_result"
    },
    {
     "data": {
      "image/png": "[encoded data removed]",
      "text/plain": [
       "<matplotlib.figure.Figure at 0x1a6402ba438>"
      ]
     },
     "metadata": {},
     "output_type": "display_data"
    }
   ],
   "source": [
    "plt.bar(k,binom_dist)\n",
    "plt.xlabel('No of successful trails')\n",
    "plt.ylabel('Probability of success')\n"
   ]
  },
  {
   "cell_type": "code",
   "execution_count": 57,
   "metadata": {},
   "outputs": [
    {
     "data": {
      "text/plain": [
       "Text(0,0.5,'Probability of success')"
      ]
     },
     "execution_count": 57,
     "metadata": {},
     "output_type": "execute_result"
    },
    {
     "data": {
      "image/png": "[encoded data removed]",
      "text/plain": [
       "<matplotlib.figure.Figure at 0x1a640538048>"
      ]
     },
     "metadata": {},
     "output_type": "display_data"
    }
   ],
   "source": [
    "##simulting with larger number of trials\n",
    "\n",
    "n=1000\n",
    "p=0.5\n",
    "k=range(0,1001)\n",
    "binom_dist=stats.binom.pmf(k,n,p)\n",
    "binom_dist\n",
    "\n",
    "plt.bar(k,binom_dist)\n",
    "plt.xlabel('No of successful trails')\n",
    "plt.ylabel('Probability of success')\n",
    "\n"
   ]
  },
  {
   "cell_type": "code",
   "execution_count": 82,
   "metadata": {},
   "outputs": [
    {
     "data": {
      "text/html": [
       "<div>\n",
       "<style scoped>\n",
       "    .dataframe tbody tr th:only-of-type {\n",
       "        vertical-align: middle;\n",
       "    }\n",
       "\n",
       "    .dataframe tbody tr th {\n",
       "        vertical-align: top;\n",
       "    }\n",
       "\n",
       "    .dataframe thead th {\n",
       "        text-align: right;\n",
       "    }\n",
       "</style>\n",
       "<table border=\"1\" class=\"dataframe\">\n",
       "  <thead>\n",
       "    <tr style=\"text-align: right;\">\n",
       "      <th></th>\n",
       "      <th>Prob</th>\n",
       "      <th>X</th>\n",
       "    </tr>\n",
       "  </thead>\n",
       "  <tbody>\n",
       "    <tr>\n",
       "      <th>0</th>\n",
       "      <td>9.332636e-302</td>\n",
       "      <td>0</td>\n",
       "    </tr>\n",
       "    <tr>\n",
       "      <th>1</th>\n",
       "      <td>9.332636e-299</td>\n",
       "      <td>1</td>\n",
       "    </tr>\n",
       "    <tr>\n",
       "      <th>2</th>\n",
       "      <td>4.661652e-296</td>\n",
       "      <td>2</td>\n",
       "    </tr>\n",
       "    <tr>\n",
       "      <th>3</th>\n",
       "      <td>1.550776e-293</td>\n",
       "      <td>3</td>\n",
       "    </tr>\n",
       "    <tr>\n",
       "      <th>4</th>\n",
       "      <td>3.865310e-291</td>\n",
       "      <td>4</td>\n",
       "    </tr>\n",
       "  </tbody>\n",
       "</table>\n",
       "</div>"
      ],
      "text/plain": [
       "            Prob  X\n",
       "0  9.332636e-302  0\n",
       "1  9.332636e-299  1\n",
       "2  4.661652e-296  2\n",
       "3  1.550776e-293  3\n",
       "4  3.865310e-291  4"
      ]
     },
     "execution_count": 82,
     "metadata": {},
     "output_type": "execute_result"
    }
   ],
   "source": [
    "###getting the mean and standard distribution\n",
    "binom_data=pd.DataFrame({'X':k,'Prob':binom_dist})\n",
    "binom_data.head()"
   ]
  },
  {
   "cell_type": "code",
   "execution_count": 67,
   "metadata": {},
   "outputs": [
    {
     "data": {
      "text/plain": [
       "0.0009990009990016255"
      ]
     },
     "execution_count": 67,
     "metadata": {},
     "output_type": "execute_result"
    }
   ],
   "source": [
    "mean=np.mean(binom_data['Prob'])\n",
    "mean"
   ]
  },
  {
   "cell_type": "code",
   "execution_count": 76,
   "metadata": {},
   "outputs": [
    {
     "data": {
      "text/plain": [
       "500.0"
      ]
     },
     "execution_count": 76,
     "metadata": {},
     "output_type": "execute_result"
    }
   ],
   "source": [
    "##computing expected value\n",
    "E_x_binom=n*p\n",
    "E_x_binom"
   ]
  },
  {
   "cell_type": "code",
   "execution_count": 77,
   "metadata": {},
   "outputs": [
    {
     "data": {
      "text/plain": [
       "250.0"
      ]
     },
     "execution_count": 77,
     "metadata": {},
     "output_type": "execute_result"
    }
   ],
   "source": [
    "##computing variance\n",
    "Var_x_binom=n*p*(1-p)\n",
    "\n",
    "Var_x_binom"
   ]
  },
  {
   "cell_type": "code",
   "execution_count": 78,
   "metadata": {},
   "outputs": [],
   "source": [
    "##Summary\n",
    "#Binomial distribution is considered the likelihood of a pass or fail outcome in a survey or experiment\n",
    "#that is replicated numerous time.There are only two potential outcomes for these experiments like\n",
    "#true or false,heads or tails\n",
    "\n",
    "#Characteristics of Binomial Distribution\n",
    "\n",
    "#First variable-The number of time an experiment is conducted\n",
    "#Second variable-Probability of a single particular outcome\n",
    "#The probability of occurance can only be determined if its done a number of times\n",
    "#None of the trails have any effect on the following trails\n",
    "#Likelihood of success is equal for every trail\n",
    "\n",
    "\n",
    "\n"
   ]
  },
  {
   "cell_type": "code",
   "execution_count": 79,
   "metadata": {},
   "outputs": [],
   "source": [
    "##########################    POISSON DISTRIBUTION ############################################"
   ]
  },
  {
   "cell_type": "code",
   "execution_count": 83,
   "metadata": {},
   "outputs": [],
   "source": [
    "###Poisson Distribution\n",
    "\n",
    "\n",
    "#The probability of events occuring at a specific time is a Poisson Distribution.In other words when\n",
    "#we are aware of how often the events have occured in the past we can predict how often it will happen\n",
    "#in the future.It provides the likelihood of a given number of events occuring in a set period.\n",
    "\n",
    "##it is close to binomial distribution in the sense the we have a prob an event occuring but the p is\n",
    "##very small\n",
    "##The value of n is generally very large\n",
    "\n",
    "#Characteristic of Poisson Distribution\n",
    "\n",
    "#An event can happen any amount of times thoughout a period\n",
    "#An event occuring does not affect the probability of any other event occuring during that period\n",
    "#Occurance rate is constant and does not change with time\n",
    "#The likelihood of an event occuring depend on the time length\n",
    "\n",
    "    #P(X=k)=e^(-lambda)*((lamda)^k)/k!\n",
    "    \n",
    "    #Lamda=Average number of success within a specific time or the rate at which an event occur in a\n",
    "    #specific time interval\n",
    "    \n",
    "    \n",
    "#the mean and var is equal to rate=lambda\n",
    "\n",
    "  #E(X)=lambda      where np=lamda\n",
    "  #Var(X)=Lamda    where np(1-p) almost equal to np since (1-p) is very small\n",
    "\n",
    "\n",
    "#General Examples\n",
    "\n",
    "#1-The number of misprints on a page\n",
    "#2-The number of people in a community who survive to age 100\n",
    "#3-The number of wrong phone numbers dialed in a day\n",
    "\n",
    "#Business Applications\n",
    "#1-Predicting customer sales on particular day/week\n",
    "#2-supply and demand estimation to help stock products\n",
    "\n"
   ]
  },
  {
   "cell_type": "code",
   "execution_count": 91,
   "metadata": {},
   "outputs": [
    {
     "data": {
      "text/plain": [
       "0.3934693402873666"
      ]
     },
     "execution_count": 91,
     "metadata": {},
     "output_type": "execute_result"
    }
   ],
   "source": [
    "#example 1\n",
    "#A book has typographical errors on a single page that follow a Poisson Distribution\n",
    "#with rate=1/2.Calculate the probability that there is atleast one\n",
    "#one error on a page\n",
    "\n",
    "    #P(X>=1)=1-P(X<1)\n",
    "    #       =1-P(X=0)\n",
    "\n",
    "rate=0.5\n",
    "n=range(0,1)\n",
    "1-sum(stats.poisson.pmf(n,rate))"
   ]
  },
  {
   "cell_type": "code",
   "execution_count": 119,
   "metadata": {},
   "outputs": [
    {
     "data": {
      "text/plain": [
       "array([0.        , 0.18393972, 0.27067057, 0.22404181, 0.14652511,\n",
       "       0.08422434, 0.04461754, 0.02234111, 0.0107348 , 0.0049981 ])"
      ]
     },
     "execution_count": 119,
     "metadata": {},
     "output_type": "execute_result"
    }
   ],
   "source": [
    "#example 2\n",
    "#Create a poisson distribution for the number of accidents happening in next 10 years when the rate of accidents\n",
    "#is 2 per year.\n",
    "\n",
    "rate=2\n",
    "n=range(0,10)\n",
    "poisson_dist=stats.poisson.pmf(rate,n)\n",
    "poisson_dist\n"
   ]
  },
  {
   "cell_type": "code",
   "execution_count": 121,
   "metadata": {},
   "outputs": [
    {
     "name": "stdout",
     "output_type": "stream",
     "text": [
      "The mean is 0.09920930918072471\n"
     ]
    },
    {
     "data": {
      "image/png": "[encoded data removed]",
      "text/plain": [
       "<matplotlib.figure.Figure at 0x1a643323898>"
      ]
     },
     "metadata": {},
     "output_type": "display_data"
    }
   ],
   "source": [
    "import matplotlib.pyplot as plt\n",
    "\n",
    "plt.plot(n,poisson_dist)\n",
    "plt.title('The poisson dist with rate:=%s and n:=%s' %(rate,n))\n",
    "print('The mean is %s' %np.mean(poisson_dist))"
   ]
  },
  {
   "cell_type": "code",
   "execution_count": 122,
   "metadata": {},
   "outputs": [
    {
     "name": "stdout",
     "output_type": "stream",
     "text": [
      "The mean is 0.009961473835624938\n"
     ]
    },
    {
     "data": {
      "image/png": "[encoded data removed]",
      "text/plain": [
       "<matplotlib.figure.Figure at 0x1a643337470>"
      ]
     },
     "metadata": {},
     "output_type": "display_data"
    }
   ],
   "source": [
    "###trying with longer range \n",
    "\n",
    "rate=2\n",
    "n=range(0,100)\n",
    "poisson_dist=stats.poisson.pmf(rate,n)\n",
    "poisson_dist\n",
    "\n",
    "plt.plot(n,poisson_dist)\n",
    "plt.title('The poisson dist with rate:=%s and n:=%s' %(rate,n))\n",
    "print('The mean is %s' %np.mean(poisson_dist))"
   ]
  },
  {
   "cell_type": "code",
   "execution_count": 130,
   "metadata": {},
   "outputs": [
    {
     "name": "stdout",
     "output_type": "stream",
     "text": [
      "The mean of data is 2.045\n",
      "The standard dev is 1.4258243229795178\n"
     ]
    },
    {
     "data": {
      "text/plain": [
       "Text(0,0.5,'Probability(X)')"
      ]
     },
     "execution_count": 130,
     "metadata": {},
     "output_type": "execute_result"
    },
    {
     "data": {
      "image/png": "[encoded data removed]",
      "text/plain": [
       "<matplotlib.figure.Figure at 0x1a643116240>"
      ]
     },
     "metadata": {},
     "output_type": "display_data"
    }
   ],
   "source": [
    "##simulating poisson random variables\n",
    "\n",
    "poisson_rv=stats.poisson.rvs(mu=2,loc=0,size=1000)\n",
    "print('The mean of data is %s'%np.mean(poisson_rv))\n",
    "print('The standard dev is %s'%np.std(poisson_rv))\n",
    "\n",
    "plt.hist(poisson_rv,bins=9,normed=True)\n",
    "plt.xlim(0,10)\n",
    "plt.xlabel('The number of accidents')\n",
    "plt.ylabel('Probability(X)')"
   ]
  },
  {
   "cell_type": "code",
   "execution_count": null,
   "metadata": {},
   "outputs": [],
   "source": []
  },
  {
   "cell_type": "code",
   "execution_count": null,
   "metadata": {},
   "outputs": [],
   "source": []
  }
 ],
 "metadata": {
  "kernelspec": {
   "display_name": "Python 3",
   "language": "python",
   "name": "python3"
  },
  "language_info": {
   "codemirror_mode": {
    "name": "ipython",
    "version": 3
   },
   "file_extension": ".py",
   "mimetype": "text/x-python",
   "name": "python",
   "nbconvert_exporter": "python",
   "pygments_lexer": "ipython3",
   "version": "3.6.4"
  }
 },
 "nbformat": 4,
 "nbformat_minor": 2
}
